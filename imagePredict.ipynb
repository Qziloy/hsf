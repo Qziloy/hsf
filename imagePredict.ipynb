{
 "cells": [
  {
   "cell_type": "raw",
   "id": "75dd7846",
   "metadata": {},
   "source": [
    "方式一：压缩图片后，再reshape,查看图片清晰度"
   ]
  },
  {
   "cell_type": "code",
   "execution_count": 94,
   "id": "556aec72",
   "metadata": {},
   "outputs": [],
   "source": [
    "import os\n",
    "from PIL import Image\n",
    "from PIL import ImageFile\n",
    "import cv2 as cv\n",
    "import numpy as np\n",
    "import matplotlib.pyplot as plt"
   ]
  },
  {
   "cell_type": "code",
   "execution_count": 95,
   "id": "c249ff90",
   "metadata": {},
   "outputs": [],
   "source": [
    "def Threshold(image):\n",
    "    gray = cv.cvtColor(image,cv2.COLOR_BGR2GRAY)\n",
    "    ret, binary = cv.threshold(gray,255,0,cv2.THRESH_OTSU)\n",
    "    return binary"
   ]
  },
  {
   "cell_type": "code",
   "execution_count": 96,
   "id": "f9e73a74",
   "metadata": {},
   "outputs": [],
   "source": [
    "# 压缩图片文件\n",
    "def compress_image(outfile, mb=2, quality=85, k=0.9): # 通常你只需要修改mb大小\n",
    "    \"\"\"不改变图片尺寸压缩到指定大小\n",
    "    :param outfile: 压缩文件保存地址\n",
    "    :param mb: 压缩目标，KB\n",
    "    :param k: 每次调整的压缩比率\n",
    "    :param quality: 初始压缩比率\n",
    "    :return: 压缩文件地址，压缩文件大小\n",
    "    \"\"\"\n",
    " \n",
    "    o_size = os.path.getsize(outfile) // 1024  # 函数返回为字节，除1024转为kb（1kb = 1024 bit）\n",
    "    print('before_size:{} after_size:{}'.format(o_size, mb))\n",
    "    if o_size <= mb:\n",
    "        return outfile\n",
    "    \n",
    "    ImageFile.LOAD_TRUNCATED_IMAGES = True  # 防止图像被截断而报错\n",
    "    \n",
    "    while o_size > mb:\n",
    "        im = Image.open(outfile)\n",
    "        x, y = im.size\n",
    "        out = im.resize((int(x*k), int(y*k)), Image.ANTIALIAS)  # 最后一个参数设置可以提高图片转换后的质量\n",
    "        try:\n",
    "            out.save(outfile, quality=quality)  # quality为保存的质量，从1（最差）到95（最好），此时为85\n",
    "        except Exception as e:\n",
    "            print(e)\n",
    "            break\n",
    "        o_size = os.path.getsize(outfile) // 1024\n",
    "    print(o_size)\n",
    "    return outfile"
   ]
  },
  {
   "cell_type": "code",
   "execution_count": 97,
   "id": "377dae5b",
   "metadata": {},
   "outputs": [],
   "source": [
    "def imageChange(path):  #单张图片地址\n",
    "# 压缩单张图片\n",
    "    outfile = compress_image(path)\n",
    "    pre_image = cv.imread(outfile,0)\n",
    "#     plt.imshow(image.squeeze())\n",
    "    print(pre_image.shape)\n",
    "    #resize图片大小 先将原本的(45，37) ---> (28,28)\n",
    "    pred_img = cv.resize(pre_image,(28,28))                          \n",
    "    #转换np数组格式\n",
    "    pred_img_arry = np.array(pred_img)   \n",
    "    #重新reshape图片                      \n",
    "    pred_img = pred_img_arry.reshape(-1,28,28,1)\n",
    "    #查看reshape后的图片shape                       \n",
    "    print(pred_img.shape)\n",
    "    return pred_img_arry,pred_img"
   ]
  },
  {
   "cell_type": "code",
   "execution_count": 98,
   "id": "989d9fac",
   "metadata": {},
   "outputs": [],
   "source": [
    "import csv,os\n",
    "def convert_img_to_csv(dirpath,image,imageArry):\n",
    "    #设置需要保存的csv路径\n",
    "    with open(dirpath,\"w\",newline=\"\") as f:\n",
    "        #设置csv文件的列名\n",
    "        column_name = []\n",
    "        column_name.extend([\"pixel%d\"%i for i in range(28*28)])\n",
    "        #将列名写入到csv文件中\n",
    "        writer = csv.writer(f)\n",
    "        writer.writerow(column_name)\n",
    "        row_data = []\n",
    "        #获取图片的像素\n",
    "        for i in range(28):\n",
    "            for j in range(28):\n",
    "                row_data.append(imageArry[i][j])\n",
    "#         将图片数据写入到csv文件中\n",
    "        writer.writerow(row_data) "
   ]
  },
  {
   "cell_type": "code",
   "execution_count": 99,
   "id": "21c895e3",
   "metadata": {},
   "outputs": [],
   "source": [
    "# def inverse(image):\n",
    "#     #颜色取反，拿二值化图片最明显了\n",
    "#     dst = cv.bitwise_not(image)\n",
    "#     cv.waitKey(0)\n",
    "#     return dst"
   ]
  },
  {
   "cell_type": "code",
   "execution_count": 100,
   "id": "0686fa7b",
   "metadata": {},
   "outputs": [],
   "source": [
    "import h5py\n",
    "from keras.models import load_model\n",
    "import pandas as pd\n",
    "import numpy as np\n",
    "import matplotlib.pyplot as plt"
   ]
  },
  {
   "cell_type": "code",
   "execution_count": 101,
   "id": "06123a94",
   "metadata": {},
   "outputs": [],
   "source": [
    "file = h5py.File('model/mymodel.h5')\n",
    "model = load_model(file)"
   ]
  },
  {
   "cell_type": "code",
   "execution_count": 102,
   "id": "409864e2",
   "metadata": {
    "scrolled": false
   },
   "outputs": [
    {
     "name": "stdout",
     "output_type": "stream",
     "text": [
      "before_size:9 after_size:2\n",
      "2\n",
      "(54, 54)\n",
      "(1, 28, 28, 1)\n"
     ]
    },
    {
     "name": "stderr",
     "output_type": "stream",
     "text": [
      "C:\\Users\\YS\\AppData\\Local\\Temp\\ipykernel_19644\\3409835289.py:21: DeprecationWarning: ANTIALIAS is deprecated and will be removed in Pillow 10 (2023-07-01). Use Resampling.LANCZOS instead.\n",
      "  out = im.resize((int(x*k), int(y*k)), Image.ANTIALIAS)  # 最后一个参数设置可以提高图片转换后的质量\n"
     ]
    }
   ],
   "source": [
    "path = r'./picture/3_1.png'\n",
    "dirpath = r'./picture/3_1.csv'\n",
    "imageArry,image = imageChange(path)\n",
    "for i in range(28):\n",
    "    for j in range(28):\n",
    "        if(imageArry[i][j]>125):\n",
    "            imageArry[i][j] = 0\n",
    "        else:\n",
    "            imageArry[i][j] = 255\n",
    "convert_img_to_csv(dirpath,image,imageArry)"
   ]
  },
  {
   "cell_type": "raw",
   "id": "364a8024",
   "metadata": {},
   "source": [
    ".squeeze() 将三维转变为二维，否则（1，28，28，1）数据读取错误"
   ]
  },
  {
   "cell_type": "code",
   "execution_count": 103,
   "id": "702a1563",
   "metadata": {},
   "outputs": [
    {
     "data": {
      "text/plain": [
       "<matplotlib.image.AxesImage at 0x208ecc0fe50>"
      ]
     },
     "execution_count": 103,
     "metadata": {},
     "output_type": "execute_result"
    },
    {
     "data": {
      "image/png": "[encoded data removed]",
      "text/plain": [
       "<Figure size 432x288 with 1 Axes>"
      ]
     },
     "metadata": {
      "needs_background": "light"
     },
     "output_type": "display_data"
    }
   ],
   "source": [
    "plt.imshow(image.squeeze())"
   ]
  },
  {
   "cell_type": "code",
   "execution_count": 104,
   "id": "94a180bd",
   "metadata": {},
   "outputs": [
    {
     "name": "stdout",
     "output_type": "stream",
     "text": [
      "1/1 [==============================] - 0s 168ms/step\n"
     ]
    }
   ],
   "source": [
    "predict = pd.read_csv(dirpath)\n",
    "predict = np.array(predict).reshape(-1,28,28,1)/255.0\n",
    "val = model.predict(predict,batch_size=64)"
   ]
  },
  {
   "cell_type": "code",
   "execution_count": 105,
   "id": "31ef624d",
   "metadata": {},
   "outputs": [
    {
     "data": {
      "text/plain": [
       "array([3], dtype=int64)"
      ]
     },
     "execution_count": 105,
     "metadata": {},
     "output_type": "execute_result"
    }
   ],
   "source": [
    "val = np.argmax(val,axis = 1)\n",
    "val"
   ]
  },
  {
   "cell_type": "raw",
   "id": "6913e441",
   "metadata": {},
   "source": [
    "方式二：不压缩图片，直接reshape,查看图片清晰度"
   ]
  },
  {
   "cell_type": "code",
   "execution_count": 187,
   "id": "35559bb7",
   "metadata": {},
   "outputs": [],
   "source": [
    "# # 批量压缩图片\n",
    "# path = r'C:\\Users\\Yesir\\Downloads\\compress\\\\' # 待压缩图片文件夹\n",
    "# for img in os.listdir(path):\n",
    "#     compress_image(path + str(img))"
   ]
  },
  {
   "cell_type": "code",
   "execution_count": 39,
   "id": "36e720e9",
   "metadata": {},
   "outputs": [
    {
     "name": "stdout",
     "output_type": "stream",
     "text": [
      "(86, 78)\n",
      "(1, 28, 28, 1)\n"
     ]
    }
   ],
   "source": [
    "import cv2 as cv\n",
    "import numpy as np\n",
    "# 压缩单张图片\n",
    "outfile = r'./picture/9_0.png' # 单张图片地址\n",
    "pre_image = cv.imread(outfile,0)\n",
    "print(pre_image.shape)\n",
    "#resize图片大小 先将原本的(224,222,3) ---> (28,28,3)\n",
    "pred_img = cv.resize(pre_image,(28,28))                          \n",
    "#转换np数组格式\n",
    "pred_img = np.array(pred_img)   \n",
    "#重新reshape图片                      \n",
    "pred_img = pred_img.reshape(-1,28,28,1)\n",
    "#查看reshape后的图片shape                       \n",
    "print(pred_img.shape)"
   ]
  },
  {
   "cell_type": "code",
   "execution_count": 40,
   "id": "e54989f0",
   "metadata": {
    "scrolled": true
   },
   "outputs": [
    {
     "data": {
      "text/plain": [
       "<matplotlib.image.AxesImage at 0x208eb3906d0>"
      ]
     },
     "execution_count": 40,
     "metadata": {},
     "output_type": "execute_result"
    },
    {
     "data": {
      "image/png": "[encoded data removed]",
      "text/plain": [
       "<Figure size 432x288 with 1 Axes>"
      ]
     },
     "metadata": {
      "needs_background": "light"
     },
     "output_type": "display_data"
    }
   ],
   "source": [
    "import matplotlib.pyplot as plt\n",
    "plt.imshow(pred_img.squeeze(), interpolation = \"none\", cmap = \"Greys\")"
   ]
  },
  {
   "cell_type": "raw",
   "id": "74ee671a",
   "metadata": {},
   "source": [
    "结论：似乎压缩后再reshape的图片清晰度好一些"
   ]
  },
  {
   "cell_type": "code",
   "execution_count": null,
   "id": "999bbec1",
   "metadata": {},
   "outputs": [],
   "source": []
  },
  {
   "cell_type": "code",
   "execution_count": null,
   "id": "7988b309",
   "metadata": {},
   "outputs": [],
   "source": []
  }
 ],
 "metadata": {
  "kernelspec": {
   "display_name": "tensorflow",
   "language": "python",
   "name": "mtdemo"
  },
  "language_info": {
   "codemirror_mode": {
    "name": "ipython",
    "version": 3
   },
   "file_extension": ".py",
   "mimetype": "text/x-python",
   "name": "python",
   "nbconvert_exporter": "python",
   "pygments_lexer": "ipython3",
   "version": "3.9.12"
  }
 },
 "nbformat": 4,
 "nbformat_minor": 5
}
