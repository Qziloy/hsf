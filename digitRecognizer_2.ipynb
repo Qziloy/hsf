{
 "cells": [
  {
   "cell_type": "code",
   "execution_count": 158,
   "id": "87b3de4b",
   "metadata": {},
   "outputs": [],
   "source": [
    "import pandas as pd\n",
    "import numpy as np\n",
    "from sklearn.model_selection import train_test_split\n",
    "import matplotlib.pyplot as plt\n",
    "from keras.models import load_model\n",
    "import time\n",
    "# 全连接层，卷积层，池化层，扁平化，随机关闭神经元\n",
    "from keras.layers import Dense,Dropout,MaxPool2D,Flatten,Convolution2D\n",
    "#标签格式转化\n",
    "from keras.utils import np_utils\n",
    "# 导入顺序结构\n",
    "from keras.models import Sequential\n",
    "#导入Adma优化函数\n",
    "from tensorflow.keras.optimizers import Adam"
   ]
  },
  {
   "cell_type": "code",
   "execution_count": 102,
   "id": "17a75ef2",
   "metadata": {},
   "outputs": [
    {
     "data": {
      "text/html": [
       "<div>\n",
       "<style scoped>\n",
       "    .dataframe tbody tr th:only-of-type {\n",
       "        vertical-align: middle;\n",
       "    }\n",
       "\n",
       "    .dataframe tbody tr th {\n",
       "        vertical-align: top;\n",
       "    }\n",
       "\n",
       "    .dataframe thead th {\n",
       "        text-align: right;\n",
       "    }\n",
       "</style>\n",
       "<table border=\"1\" class=\"dataframe\">\n",
       "  <thead>\n",
       "    <tr style=\"text-align: right;\">\n",
       "      <th></th>\n",
       "      <th>pixel0</th>\n",
       "      <th>pixel1</th>\n",
       "      <th>pixel2</th>\n",
       "      <th>pixel3</th>\n",
       "      <th>pixel4</th>\n",
       "      <th>pixel5</th>\n",
       "      <th>pixel6</th>\n",
       "      <th>pixel7</th>\n",
       "      <th>pixel8</th>\n",
       "      <th>pixel9</th>\n",
       "      <th>...</th>\n",
       "      <th>pixel774</th>\n",
       "      <th>pixel775</th>\n",
       "      <th>pixel776</th>\n",
       "      <th>pixel777</th>\n",
       "      <th>pixel778</th>\n",
       "      <th>pixel779</th>\n",
       "      <th>pixel780</th>\n",
       "      <th>pixel781</th>\n",
       "      <th>pixel782</th>\n",
       "      <th>pixel783</th>\n",
       "    </tr>\n",
       "  </thead>\n",
       "  <tbody>\n",
       "    <tr>\n",
       "      <th>37674</th>\n",
       "      <td>0</td>\n",
       "      <td>0</td>\n",
       "      <td>0</td>\n",
       "      <td>0</td>\n",
       "      <td>0</td>\n",
       "      <td>0</td>\n",
       "      <td>0</td>\n",
       "      <td>0</td>\n",
       "      <td>0</td>\n",
       "      <td>0</td>\n",
       "      <td>...</td>\n",
       "      <td>0</td>\n",
       "      <td>0</td>\n",
       "      <td>0</td>\n",
       "      <td>0</td>\n",
       "      <td>0</td>\n",
       "      <td>0</td>\n",
       "      <td>0</td>\n",
       "      <td>0</td>\n",
       "      <td>0</td>\n",
       "      <td>0</td>\n",
       "    </tr>\n",
       "    <tr>\n",
       "      <th>5849</th>\n",
       "      <td>0</td>\n",
       "      <td>0</td>\n",
       "      <td>0</td>\n",
       "      <td>0</td>\n",
       "      <td>0</td>\n",
       "      <td>0</td>\n",
       "      <td>0</td>\n",
       "      <td>0</td>\n",
       "      <td>0</td>\n",
       "      <td>0</td>\n",
       "      <td>...</td>\n",
       "      <td>0</td>\n",
       "      <td>0</td>\n",
       "      <td>0</td>\n",
       "      <td>0</td>\n",
       "      <td>0</td>\n",
       "      <td>0</td>\n",
       "      <td>0</td>\n",
       "      <td>0</td>\n",
       "      <td>0</td>\n",
       "      <td>0</td>\n",
       "    </tr>\n",
       "    <tr>\n",
       "      <th>3899</th>\n",
       "      <td>0</td>\n",
       "      <td>0</td>\n",
       "      <td>0</td>\n",
       "      <td>0</td>\n",
       "      <td>0</td>\n",
       "      <td>0</td>\n",
       "      <td>0</td>\n",
       "      <td>0</td>\n",
       "      <td>0</td>\n",
       "      <td>0</td>\n",
       "      <td>...</td>\n",
       "      <td>0</td>\n",
       "      <td>0</td>\n",
       "      <td>0</td>\n",
       "      <td>0</td>\n",
       "      <td>0</td>\n",
       "      <td>0</td>\n",
       "      <td>0</td>\n",
       "      <td>0</td>\n",
       "      <td>0</td>\n",
       "      <td>0</td>\n",
       "    </tr>\n",
       "    <tr>\n",
       "      <th>34433</th>\n",
       "      <td>0</td>\n",
       "      <td>0</td>\n",
       "      <td>0</td>\n",
       "      <td>0</td>\n",
       "      <td>0</td>\n",
       "      <td>0</td>\n",
       "      <td>0</td>\n",
       "      <td>0</td>\n",
       "      <td>0</td>\n",
       "      <td>0</td>\n",
       "      <td>...</td>\n",
       "      <td>0</td>\n",
       "      <td>0</td>\n",
       "      <td>0</td>\n",
       "      <td>0</td>\n",
       "      <td>0</td>\n",
       "      <td>0</td>\n",
       "      <td>0</td>\n",
       "      <td>0</td>\n",
       "      <td>0</td>\n",
       "      <td>0</td>\n",
       "    </tr>\n",
       "    <tr>\n",
       "      <th>23753</th>\n",
       "      <td>0</td>\n",
       "      <td>0</td>\n",
       "      <td>0</td>\n",
       "      <td>0</td>\n",
       "      <td>0</td>\n",
       "      <td>0</td>\n",
       "      <td>0</td>\n",
       "      <td>0</td>\n",
       "      <td>0</td>\n",
       "      <td>0</td>\n",
       "      <td>...</td>\n",
       "      <td>0</td>\n",
       "      <td>0</td>\n",
       "      <td>0</td>\n",
       "      <td>0</td>\n",
       "      <td>0</td>\n",
       "      <td>0</td>\n",
       "      <td>0</td>\n",
       "      <td>0</td>\n",
       "      <td>0</td>\n",
       "      <td>0</td>\n",
       "    </tr>\n",
       "    <tr>\n",
       "      <th>...</th>\n",
       "      <td>...</td>\n",
       "      <td>...</td>\n",
       "      <td>...</td>\n",
       "      <td>...</td>\n",
       "      <td>...</td>\n",
       "      <td>...</td>\n",
       "      <td>...</td>\n",
       "      <td>...</td>\n",
       "      <td>...</td>\n",
       "      <td>...</td>\n",
       "      <td>...</td>\n",
       "      <td>...</td>\n",
       "      <td>...</td>\n",
       "      <td>...</td>\n",
       "      <td>...</td>\n",
       "      <td>...</td>\n",
       "      <td>...</td>\n",
       "      <td>...</td>\n",
       "      <td>...</td>\n",
       "      <td>...</td>\n",
       "      <td>...</td>\n",
       "    </tr>\n",
       "    <tr>\n",
       "      <th>11532</th>\n",
       "      <td>0</td>\n",
       "      <td>0</td>\n",
       "      <td>0</td>\n",
       "      <td>0</td>\n",
       "      <td>0</td>\n",
       "      <td>0</td>\n",
       "      <td>0</td>\n",
       "      <td>0</td>\n",
       "      <td>0</td>\n",
       "      <td>0</td>\n",
       "      <td>...</td>\n",
       "      <td>0</td>\n",
       "      <td>0</td>\n",
       "      <td>0</td>\n",
       "      <td>0</td>\n",
       "      <td>0</td>\n",
       "      <td>0</td>\n",
       "      <td>0</td>\n",
       "      <td>0</td>\n",
       "      <td>0</td>\n",
       "      <td>0</td>\n",
       "    </tr>\n",
       "    <tr>\n",
       "      <th>27640</th>\n",
       "      <td>0</td>\n",
       "      <td>0</td>\n",
       "      <td>0</td>\n",
       "      <td>0</td>\n",
       "      <td>0</td>\n",
       "      <td>0</td>\n",
       "      <td>0</td>\n",
       "      <td>0</td>\n",
       "      <td>0</td>\n",
       "      <td>0</td>\n",
       "      <td>...</td>\n",
       "      <td>0</td>\n",
       "      <td>0</td>\n",
       "      <td>0</td>\n",
       "      <td>0</td>\n",
       "      <td>0</td>\n",
       "      <td>0</td>\n",
       "      <td>0</td>\n",
       "      <td>0</td>\n",
       "      <td>0</td>\n",
       "      <td>0</td>\n",
       "    </tr>\n",
       "    <tr>\n",
       "      <th>14501</th>\n",
       "      <td>0</td>\n",
       "      <td>0</td>\n",
       "      <td>0</td>\n",
       "      <td>0</td>\n",
       "      <td>0</td>\n",
       "      <td>0</td>\n",
       "      <td>0</td>\n",
       "      <td>0</td>\n",
       "      <td>0</td>\n",
       "      <td>0</td>\n",
       "      <td>...</td>\n",
       "      <td>0</td>\n",
       "      <td>0</td>\n",
       "      <td>0</td>\n",
       "      <td>0</td>\n",
       "      <td>0</td>\n",
       "      <td>0</td>\n",
       "      <td>0</td>\n",
       "      <td>0</td>\n",
       "      <td>0</td>\n",
       "      <td>0</td>\n",
       "    </tr>\n",
       "    <tr>\n",
       "      <th>30727</th>\n",
       "      <td>0</td>\n",
       "      <td>0</td>\n",
       "      <td>0</td>\n",
       "      <td>0</td>\n",
       "      <td>0</td>\n",
       "      <td>0</td>\n",
       "      <td>0</td>\n",
       "      <td>0</td>\n",
       "      <td>0</td>\n",
       "      <td>0</td>\n",
       "      <td>...</td>\n",
       "      <td>0</td>\n",
       "      <td>0</td>\n",
       "      <td>0</td>\n",
       "      <td>0</td>\n",
       "      <td>0</td>\n",
       "      <td>0</td>\n",
       "      <td>0</td>\n",
       "      <td>0</td>\n",
       "      <td>0</td>\n",
       "      <td>0</td>\n",
       "    </tr>\n",
       "    <tr>\n",
       "      <th>11590</th>\n",
       "      <td>0</td>\n",
       "      <td>0</td>\n",
       "      <td>0</td>\n",
       "      <td>0</td>\n",
       "      <td>0</td>\n",
       "      <td>0</td>\n",
       "      <td>0</td>\n",
       "      <td>0</td>\n",
       "      <td>0</td>\n",
       "      <td>0</td>\n",
       "      <td>...</td>\n",
       "      <td>0</td>\n",
       "      <td>0</td>\n",
       "      <td>0</td>\n",
       "      <td>0</td>\n",
       "      <td>0</td>\n",
       "      <td>0</td>\n",
       "      <td>0</td>\n",
       "      <td>0</td>\n",
       "      <td>0</td>\n",
       "      <td>0</td>\n",
       "    </tr>\n",
       "  </tbody>\n",
       "</table>\n",
       "<p>31500 rows × 784 columns</p>\n",
       "</div>"
      ],
      "text/plain": [
       "       pixel0  pixel1  pixel2  pixel3  pixel4  pixel5  pixel6  pixel7  pixel8  \\\n",
       "37674       0       0       0       0       0       0       0       0       0   \n",
       "5849        0       0       0       0       0       0       0       0       0   \n",
       "3899        0       0       0       0       0       0       0       0       0   \n",
       "34433       0       0       0       0       0       0       0       0       0   \n",
       "23753       0       0       0       0       0       0       0       0       0   \n",
       "...       ...     ...     ...     ...     ...     ...     ...     ...     ...   \n",
       "11532       0       0       0       0       0       0       0       0       0   \n",
       "27640       0       0       0       0       0       0       0       0       0   \n",
       "14501       0       0       0       0       0       0       0       0       0   \n",
       "30727       0       0       0       0       0       0       0       0       0   \n",
       "11590       0       0       0       0       0       0       0       0       0   \n",
       "\n",
       "       pixel9  ...  pixel774  pixel775  pixel776  pixel777  pixel778  \\\n",
       "37674       0  ...         0         0         0         0         0   \n",
       "5849        0  ...         0         0         0         0         0   \n",
       "3899        0  ...         0         0         0         0         0   \n",
       "34433       0  ...         0         0         0         0         0   \n",
       "23753       0  ...         0         0         0         0         0   \n",
       "...       ...  ...       ...       ...       ...       ...       ...   \n",
       "11532       0  ...         0         0         0         0         0   \n",
       "27640       0  ...         0         0         0         0         0   \n",
       "14501       0  ...         0         0         0         0         0   \n",
       "30727       0  ...         0         0         0         0         0   \n",
       "11590       0  ...         0         0         0         0         0   \n",
       "\n",
       "       pixel779  pixel780  pixel781  pixel782  pixel783  \n",
       "37674         0         0         0         0         0  \n",
       "5849          0         0         0         0         0  \n",
       "3899          0         0         0         0         0  \n",
       "34433         0         0         0         0         0  \n",
       "23753         0         0         0         0         0  \n",
       "...         ...       ...       ...       ...       ...  \n",
       "11532         0         0         0         0         0  \n",
       "27640         0         0         0         0         0  \n",
       "14501         0         0         0         0         0  \n",
       "30727         0         0         0         0         0  \n",
       "11590         0         0         0         0         0  \n",
       "\n",
       "[31500 rows x 784 columns]"
      ]
     },
     "execution_count": 102,
     "metadata": {},
     "output_type": "execute_result"
    }
   ],
   "source": [
    "# 将训练集和验证集分开\n",
    "train = pd.read_csv(\"./train.csv\")\n",
    "X = train.iloc[:,1:]\n",
    "y = train.iloc[:,0]\n",
    "x,test_x,y,test_y = train_test_split(X,y,test_size=0.25,random_state=40)\n",
    "X.count() #42000个数据\n",
    "x"
   ]
  },
  {
   "cell_type": "code",
   "execution_count": 103,
   "id": "d54a2f61",
   "metadata": {},
   "outputs": [],
   "source": [
    "x = np.array(x)\n",
    "y = np.array(y)\n",
    "test_x = np.array(test_x)\n",
    "test_y = np.array(test_y)"
   ]
  },
  {
   "cell_type": "code",
   "execution_count": 104,
   "id": "6e86ae3c",
   "metadata": {},
   "outputs": [],
   "source": [
    "/#-1是自动匹配数据的个数42000,长宽深度分别28，28，1,再归一化\n",
    "x = x.reshape(-1,28,28,1) / 255.0\n",
    "test_x = test_x.reshape(-1,28,28,1) / 255.0\n",
    "# 转换为 one hot 格式\n",
    "'''这里使用的numpy下的untils中的to_categorical方法把标签数据给分类\n",
    "因为有10个数字，所以设置num_classes为10，也就是10个类'''\n",
    "y = np_utils.to_categorical(y, num_classes=10)\n",
    "test_y = np_utils.to_categorical(test_y, num_classes=10)"
   ]
  },
  {
   "cell_type": "code",
   "execution_count": 105,
   "id": "806efa7c",
   "metadata": {},
   "outputs": [],
   "source": [
    "# 创建模型\n",
    "model = Sequential()\n",
    "#定义卷积核\n",
    "model.add(Convolution2D(\n",
    "    input_shape=(28,28,1),#输入平面大小\n",
    "    filters=32,#卷积核大小\n",
    "    kernel_size=5,#卷积窗口大小为5\n",
    "    strides=1,#步长为1\n",
    "    padding='same',#边缘补0是same，不补零是valid\n",
    "    activation='relu'#激活函数\n",
    "))"
   ]
  },
  {
   "cell_type": "code",
   "execution_count": 106,
   "id": "5e930337",
   "metadata": {},
   "outputs": [],
   "source": [
    "#定义第一个池化层\n",
    "model.add(MaxPool2D(\n",
    "    pool_size=2,#池化窗口大小\n",
    "    strides=2,#步长为2\n",
    "    padding='same'\n",
    "))"
   ]
  },
  {
   "cell_type": "code",
   "execution_count": 107,
   "id": "f0a27793",
   "metadata": {},
   "outputs": [],
   "source": [
    "#第二个卷积层\n",
    "model.add(Convolution2D(64,5,strides=1,padding='same',activation='relu'))"
   ]
  },
  {
   "cell_type": "code",
   "execution_count": 108,
   "id": "2000892d",
   "metadata": {},
   "outputs": [],
   "source": [
    "#第二个池化层\n",
    "model.add(MaxPool2D(2,2,'same'))"
   ]
  },
  {
   "cell_type": "code",
   "execution_count": 109,
   "id": "22c47fc5",
   "metadata": {},
   "outputs": [],
   "source": [
    "#将输出扁平化\n",
    "model.add(Flatten())"
   ]
  },
  {
   "cell_type": "code",
   "execution_count": 110,
   "id": "c4309284",
   "metadata": {},
   "outputs": [],
   "source": [
    "#第一个全连接层\n",
    "model.add(Dense(1024,activation='relu'))\n",
    "#Drop，百分之50关闭神经元\n",
    "model.add(Dropout(0.5))\n",
    "#第二个全连接层\n",
    "model.add(Dense(10,activation='softmax'))"
   ]
  },
  {
   "cell_type": "code",
   "execution_count": 111,
   "id": "52a12d0b",
   "metadata": {},
   "outputs": [],
   "source": [
    "# 定义优化器\n",
    "adam = Adam(learning_rate=1e-4)\n",
    "# 定义优化器以及loss function即损失函数，训练过程中计算准确率\n",
    "model.compile(\n",
    "    optimizer=adam,  # 使用的优化函数\n",
    "    loss='categorical_crossentropy',\n",
    "    metrics=['accuracy']  # 计算准确率\n",
    ")"
   ]
  },
  {
   "cell_type": "code",
   "execution_count": 112,
   "id": "fd7e4050",
   "metadata": {},
   "outputs": [
    {
     "name": "stdout",
     "output_type": "stream",
     "text": [
      "Epoch 1/30\n",
      "493/493 [==============================] - 51s 98ms/step - loss: 0.4845 - accuracy: 0.8660\n",
      "Epoch 2/30\n",
      "493/493 [==============================] - 48s 96ms/step - loss: 0.1364 - accuracy: 0.9592\n",
      "Epoch 3/30\n",
      "493/493 [==============================] - 47s 95ms/step - loss: 0.0884 - accuracy: 0.9729\n",
      "Epoch 4/30\n",
      "493/493 [==============================] - 48s 97ms/step - loss: 0.0711 - accuracy: 0.9783\n",
      "Epoch 5/30\n",
      "493/493 [==============================] - 45s 92ms/step - loss: 0.0590 - accuracy: 0.9818\n",
      "Epoch 6/30\n",
      "493/493 [==============================] - 40s 81ms/step - loss: 0.0474 - accuracy: 0.9858\n",
      "Epoch 7/30\n",
      "493/493 [==============================] - 40s 81ms/step - loss: 0.0436 - accuracy: 0.9865\n",
      "Epoch 8/30\n",
      "493/493 [==============================] - 40s 82ms/step - loss: 0.0381 - accuracy: 0.9878\n",
      "Epoch 9/30\n",
      "493/493 [==============================] - 44s 89ms/step - loss: 0.0334 - accuracy: 0.9890\n",
      "Epoch 10/30\n",
      "493/493 [==============================] - 40s 82ms/step - loss: 0.0285 - accuracy: 0.9916\n",
      "Epoch 11/30\n",
      "493/493 [==============================] - 40s 81ms/step - loss: 0.0265 - accuracy: 0.9917\n",
      "Epoch 12/30\n",
      "493/493 [==============================] - 40s 81ms/step - loss: 0.0243 - accuracy: 0.9922\n",
      "Epoch 13/30\n",
      "493/493 [==============================] - 40s 81ms/step - loss: 0.0209 - accuracy: 0.9937\n",
      "Epoch 14/30\n",
      "493/493 [==============================] - 40s 81ms/step - loss: 0.0184 - accuracy: 0.9943\n",
      "Epoch 15/30\n",
      "493/493 [==============================] - 41s 83ms/step - loss: 0.0152 - accuracy: 0.9954\n",
      "Epoch 16/30\n",
      "493/493 [==============================] - 44s 88ms/step - loss: 0.0159 - accuracy: 0.9950\n",
      "Epoch 17/30\n",
      "493/493 [==============================] - 47s 95ms/step - loss: 0.0151 - accuracy: 0.9952\n",
      "Epoch 18/30\n",
      "493/493 [==============================] - 50s 102ms/step - loss: 0.0125 - accuracy: 0.9964\n",
      "Epoch 19/30\n",
      "493/493 [==============================] - 45s 91ms/step - loss: 0.0111 - accuracy: 0.9964\n",
      "Epoch 20/30\n",
      "493/493 [==============================] - 42s 85ms/step - loss: 0.0095 - accuracy: 0.9974\n",
      "Epoch 21/30\n",
      "493/493 [==============================] - 42s 85ms/step - loss: 0.0102 - accuracy: 0.9970\n",
      "Epoch 22/30\n",
      "493/493 [==============================] - 42s 86ms/step - loss: 0.0101 - accuracy: 0.9968\n",
      "Epoch 23/30\n",
      "493/493 [==============================] - 43s 87ms/step - loss: 0.0078 - accuracy: 0.9977\n",
      "Epoch 24/30\n",
      "493/493 [==============================] - 45s 92ms/step - loss: 0.0075 - accuracy: 0.9977\n",
      "Epoch 25/30\n",
      "493/493 [==============================] - 46s 94ms/step - loss: 0.0079 - accuracy: 0.9974\n",
      "Epoch 26/30\n",
      "493/493 [==============================] - 48s 97ms/step - loss: 0.0067 - accuracy: 0.9975\n",
      "Epoch 27/30\n",
      "493/493 [==============================] - 46s 93ms/step - loss: 0.0056 - accuracy: 0.9982\n",
      "Epoch 28/30\n",
      "493/493 [==============================] - 50s 102ms/step - loss: 0.0067 - accuracy: 0.9978\n",
      "Epoch 29/30\n",
      "493/493 [==============================] - 44s 89ms/step - loss: 0.0051 - accuracy: 0.9984\n",
      "Epoch 30/30\n",
      "493/493 [==============================] - 48s 98ms/step - loss: 0.0047 - accuracy: 0.9983\n"
     ]
    }
   ],
   "source": [
    "# 训练模型,使用训练集\n",
    "'''batch_size=64表示每次会训练64张图片，把42000张图片训练完为1个周期\n",
    " epochs是迭代周期，所以这里设置要训练完10个周期'''\n",
    "history = model.fit(x, y, batch_size=64, epochs=30)"
   ]
  },
  {
   "cell_type": "code",
   "execution_count": 159,
   "id": "4ddb5db9",
   "metadata": {},
   "outputs": [],
   "source": [
    "import h5py"
   ]
  },
  {
   "cell_type": "code",
   "execution_count": 163,
   "id": "22903d69",
   "metadata": {},
   "outputs": [
    {
     "name": "stdout",
     "output_type": "stream",
     "text": [
      "Model: \"sequential_1\"\n",
      "_________________________________________________________________\n",
      " Layer (type)                Output Shape              Param #   \n",
      "=================================================================\n",
      " conv2d_2 (Conv2D)           (None, 28, 28, 32)        832       \n",
      "                                                                 \n",
      " max_pooling2d_2 (MaxPooling  (None, 14, 14, 32)       0         \n",
      " 2D)                                                             \n",
      "                                                                 \n",
      " conv2d_3 (Conv2D)           (None, 14, 14, 64)        51264     \n",
      "                                                                 \n",
      " max_pooling2d_3 (MaxPooling  (None, 7, 7, 64)         0         \n",
      " 2D)                                                             \n",
      "                                                                 \n",
      " flatten_1 (Flatten)         (None, 3136)              0         \n",
      "                                                                 \n",
      " dense_2 (Dense)             (None, 1024)              3212288   \n",
      "                                                                 \n",
      " dropout_1 (Dropout)         (None, 1024)              0         \n",
      "                                                                 \n",
      " dense_3 (Dense)             (None, 10)                10250     \n",
      "                                                                 \n",
      "=================================================================\n",
      "Total params: 3,274,634\n",
      "Trainable params: 3,274,634\n",
      "Non-trainable params: 0\n",
      "_________________________________________________________________\n"
     ]
    }
   ],
   "source": [
    "model.save('model/model.h5')\n",
    "file = h5py.File('model/mymodel.h5')\n",
    "new_model = load_model(file)\n",
    "new_model.summary()"
   ]
  },
  {
   "cell_type": "code",
   "execution_count": 14,
   "id": "501e2d0a",
   "metadata": {},
   "outputs": [],
   "source": [
    "# type(history)\n",
    "# history.historyi"
   ]
  },
  {
   "cell_type": "code",
   "execution_count": 165,
   "id": "d61d155d",
   "metadata": {},
   "outputs": [
    {
     "data": {
      "image/png": "[encoded data removed]",
      "text/plain": [
       "<Figure size 432x288 with 1 Axes>"
      ]
     },
     "metadata": {
      "needs_background": "light"
     },
     "output_type": "display_data"
    },
    {
     "data": {
      "image/png": "[encoded data removed]",
      "text/plain": [
       "<Figure size 432x288 with 1 Axes>"
      ]
     },
     "metadata": {
      "needs_background": "light"
     },
     "output_type": "display_data"
    }
   ],
   "source": [
    "import matplotlib.pyplot as plt\n",
    " \n",
    "# 绘制损失曲线\n",
    "plt.plot(history.history['loss'])\n",
    "# plt.plot(history.history['val_loss'])\n",
    "plt.title('Model Loss')\n",
    "plt.xlabel('Epoch')\n",
    "plt.ylabel('Loss')\n",
    "plt.legend(['Train', 'Test'], loc='upper right')\n",
    "plt.show()\n",
    "\n",
    "# 绘制准确率曲线\n",
    "plt.plot(history.history['accuracy'])\n",
    "# plt.plot(history.history['val_accuracy'])\n",
    "plt.title('Model Accuracy')\n",
    "plt.xlabel('Epoch')\n",
    "plt.ylabel('Accuracy')\n",
    "plt.legend(['Train', 'Test'], loc='upper left')\n",
    "plt.show()"
   ]
  },
  {
   "cell_type": "code",
   "execution_count": 166,
   "id": "3247c7cd",
   "metadata": {},
   "outputs": [
    {
     "name": "stdout",
     "output_type": "stream",
     "text": [
      "329/329 [==============================] - 3s 10ms/step - loss: 0.0394 - accuracy: 0.9904\n",
      "loss: 0.03940822184085846\n",
      "accuracy: 0.9903809428215027\n"
     ]
    }
   ],
   "source": [
    "# 评估模型，使用验证集\n",
    "loss, accuracy = model.evaluate(test_x,test_y)\n",
    "print('loss:', loss)\n",
    "print('accuracy:', accuracy)"
   ]
  },
  {
   "cell_type": "raw",
   "id": "1b39925f",
   "metadata": {},
   "source": [
    "当使用predict()方法进行预测时，返回值是数值，表示样本属于每一个类别的概率，\n",
    "然后可以使用numpy.argmax()方法找到样本以最大概率所属的类别作为样本的预测标签。\n",
    "当使用predict_classes()方法进行预测时，返回的是类别的索引，即该样本所属的类别标签。\n",
    "再说一下numpy.argmax()函数的用法\n",
    "\n",
    "numpy.argmax(array, axis)，该函数返回的是沿轴axis最大值的索引。\n",
    "如果是一维数组无需指定axis，直接返回最大值的索引。\n",
    "如果是二维数组，需指定axis的值，当axis=0时，表示返回的是每一列的最大值的索引；\n",
    "当axis=1时，返回的是每一行的最大值的索引。"
   ]
  },
  {
   "cell_type": "code",
   "execution_count": 167,
   "id": "e090065d",
   "metadata": {},
   "outputs": [
    {
     "name": "stdout",
     "output_type": "stream",
     "text": [
      "438/438 [==============================] - 7s 15ms/step\n"
     ]
    }
   ],
   "source": [
    "test = pd.read_csv(\"./test.csv\")\n",
    "test = np.array(test).reshape(-1,28,28,1)/255.0\n",
    "val = model.predict(test,batch_size=64)"
   ]
  },
  {
   "cell_type": "code",
   "execution_count": 168,
   "id": "f74eb390",
   "metadata": {},
   "outputs": [
    {
     "data": {
      "text/plain": [
       "(28000, 10)"
      ]
     },
     "execution_count": 168,
     "metadata": {},
     "output_type": "execute_result"
    }
   ],
   "source": [
    "val.shape"
   ]
  },
  {
   "cell_type": "code",
   "execution_count": 169,
   "id": "414b091e",
   "metadata": {},
   "outputs": [
    {
     "data": {
      "text/plain": [
       "array([2, 0, 9, ..., 3, 9, 2], dtype=int64)"
      ]
     },
     "execution_count": 169,
     "metadata": {},
     "output_type": "execute_result"
    }
   ],
   "source": [
    "val = np.argmax(val,axis = 1)\n",
    "val"
   ]
  },
  {
   "cell_type": "code",
   "execution_count": 170,
   "id": "3fd35c95",
   "metadata": {},
   "outputs": [
    {
     "data": {
      "image/png": "[encoded data removed]",
      "text/plain": [
       "<Figure size 720x360 with 10 Axes>"
      ]
     },
     "metadata": {
      "needs_background": "light"
     },
     "output_type": "display_data"
    }
   ],
   "source": [
    "#测试集里的数字\n",
    "test0 = pd.read_csv(\"./test.csv\")\n",
    "plt.figure(figsize = (10,5))  #设置图片显示宽高\n",
    "\n",
    "for num in range(0,10):\n",
    "    plt.subplot(2,5,num+1)  #设置图片排列方式，和当前位置\n",
    "    #将长度为784的向量数据转化为28*28的矩阵\n",
    "    grid_data = test0.iloc[num].values.reshape(28,28)\n",
    "    #显示图片，颜色为黑白\n",
    "#     plt.imshow(grid_data, interpolation = \"none\", cmap = \"Greys\")\n",
    "    plt.imshow(grid_data)\n",
    "    plt.title('Pre Number:{}'.format(val[num]))"
   ]
  },
  {
   "cell_type": "code",
   "execution_count": 21,
   "id": "b9a6bba6",
   "metadata": {},
   "outputs": [
    {
     "data": {
      "text/html": [
       "<div>\n",
       "<style scoped>\n",
       "    .dataframe tbody tr th:only-of-type {\n",
       "        vertical-align: middle;\n",
       "    }\n",
       "\n",
       "    .dataframe tbody tr th {\n",
       "        vertical-align: top;\n",
       "    }\n",
       "\n",
       "    .dataframe thead th {\n",
       "        text-align: right;\n",
       "    }\n",
       "</style>\n",
       "<table border=\"1\" class=\"dataframe\">\n",
       "  <thead>\n",
       "    <tr style=\"text-align: right;\">\n",
       "      <th></th>\n",
       "      <th>ImageId</th>\n",
       "      <th>Label</th>\n",
       "    </tr>\n",
       "  </thead>\n",
       "  <tbody>\n",
       "    <tr>\n",
       "      <th>0</th>\n",
       "      <td>1</td>\n",
       "      <td>2</td>\n",
       "    </tr>\n",
       "    <tr>\n",
       "      <th>1</th>\n",
       "      <td>2</td>\n",
       "      <td>0</td>\n",
       "    </tr>\n",
       "    <tr>\n",
       "      <th>2</th>\n",
       "      <td>3</td>\n",
       "      <td>9</td>\n",
       "    </tr>\n",
       "    <tr>\n",
       "      <th>3</th>\n",
       "      <td>4</td>\n",
       "      <td>9</td>\n",
       "    </tr>\n",
       "    <tr>\n",
       "      <th>4</th>\n",
       "      <td>5</td>\n",
       "      <td>3</td>\n",
       "    </tr>\n",
       "  </tbody>\n",
       "</table>\n",
       "</div>"
      ],
      "text/plain": [
       "   ImageId  Label\n",
       "0        1      2\n",
       "1        2      0\n",
       "2        3      9\n",
       "3        4      9\n",
       "4        5      3"
      ]
     },
     "execution_count": 21,
     "metadata": {},
     "output_type": "execute_result"
    }
   ],
   "source": [
    "submission_df = pd.DataFrame({\n",
    "                  \"ImageId\": range(1,len(test)+1),\n",
    "                  \"Label\":val})\n",
    "submission_df.to_csv(\"simplemnist_result.csv\",index=False)\n",
    "submission_df.head()"
   ]
  },
  {
   "cell_type": "code",
   "execution_count": 22,
   "id": "eb3099fd",
   "metadata": {},
   "outputs": [],
   "source": [
    "score = 0.98939"
   ]
  }
 ],
 "metadata": {
  "kernelspec": {
   "display_name": "tensorflow",
   "language": "python",
   "name": "mtdemo"
  },
  "language_info": {
   "codemirror_mode": {
    "name": "ipython",
    "version": 3
   },
   "file_extension": ".py",
   "mimetype": "text/x-python",
   "name": "python",
   "nbconvert_exporter": "python",
   "pygments_lexer": "ipython3",
   "version": "3.9.12"
  }
 },
 "nbformat": 4,
 "nbformat_minor": 5
}
